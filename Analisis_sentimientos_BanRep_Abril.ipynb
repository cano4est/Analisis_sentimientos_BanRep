{
  "nbformat": 4,
  "nbformat_minor": 0,
  "metadata": {
    "colab": {
      "provenance": [],
      "gpuType": "T4",
      "include_colab_link": true
    },
    "kernelspec": {
      "name": "python3",
      "display_name": "Python 3"
    },
    "language_info": {
      "name": "python"
    },
    "accelerator": "GPU"
  },
  "cells": [
    {
      "cell_type": "markdown",
      "metadata": {
        "id": "view-in-github",
        "colab_type": "text"
      },
      "source": [
        "<a href=\"https://colab.research.google.com/github/cano4est/Proyecto_final_IA/blob/main/Analisis_sentimientos_BanRep_Abril.ipynb\" target=\"_parent\"><img src=\"https://colab.research.google.com/assets/colab-badge.svg\" alt=\"Open In Colab\"/></a>"
      ]
    },
    {
      "cell_type": "markdown",
      "source": [
        "# Extracción de datos\n"
      ],
      "metadata": {
        "id": "L70iaKrDchLu"
      }
    },
    {
      "cell_type": "code",
      "source": [
        "!pip install PyMuPDF --q"
      ],
      "metadata": {
        "id": "aUshviUudS4R",
        "colab": {
          "base_uri": "https://localhost:8080/"
        },
        "outputId": "747de22a-41e0-4ed7-cd77-ec3a711827a3"
      },
      "execution_count": null,
      "outputs": [
        {
          "output_type": "stream",
          "name": "stdout",
          "text": [
            "\u001b[?25l   \u001b[90m━━━━━━━━━━━━━━━━━━━━━━━━━━━━━━━━━━━━━━━━\u001b[0m \u001b[32m0.0/19.8 MB\u001b[0m \u001b[31m?\u001b[0m eta \u001b[36m-:--:--\u001b[0m\r\u001b[2K   \u001b[91m━━━━━━━━━━\u001b[0m\u001b[91m╸\u001b[0m\u001b[90m━━━━━━━━━━━━━━━━━━━━━━━━━━━━━\u001b[0m \u001b[32m5.3/19.8 MB\u001b[0m \u001b[31m159.5 MB/s\u001b[0m eta \u001b[36m0:00:01\u001b[0m\r\u001b[2K   \u001b[91m━━━━━━━━━━━━━━━━━━━━━━━━\u001b[0m\u001b[91m╸\u001b[0m\u001b[90m━━━━━━━━━━━━━━━\u001b[0m \u001b[32m12.2/19.8 MB\u001b[0m \u001b[31m191.2 MB/s\u001b[0m eta \u001b[36m0:00:01\u001b[0m\r\u001b[2K   \u001b[91m━━━━━━━━━━━━━━━━━━━━━━━━━━━━━━━━━━━━━━━\u001b[0m\u001b[90m╺\u001b[0m \u001b[32m19.5/19.8 MB\u001b[0m \u001b[31m206.7 MB/s\u001b[0m eta \u001b[36m0:00:01\u001b[0m\r\u001b[2K   \u001b[91m━━━━━━━━━━━━━━━━━━━━━━━━━━━━━━━━━━━━━━━\u001b[0m\u001b[91m╸\u001b[0m \u001b[32m19.8/19.8 MB\u001b[0m \u001b[31m201.3 MB/s\u001b[0m eta \u001b[36m0:00:01\u001b[0m\r\u001b[2K   \u001b[90m━━━━━━━━━━━━━━━━━━━━━━━━━━━━━━━━━━━━━━━━\u001b[0m \u001b[32m19.8/19.8 MB\u001b[0m \u001b[31m92.8 MB/s\u001b[0m eta \u001b[36m0:00:00\u001b[0m\n",
            "\u001b[?25h"
          ]
        }
      ]
    },
    {
      "cell_type": "code",
      "source": [
        "!pip install transformers --q"
      ],
      "metadata": {
        "id": "COpxDs451H1D"
      },
      "execution_count": null,
      "outputs": []
    },
    {
      "cell_type": "code",
      "source": [
        "import fitz\n",
        "import re\n",
        "import pandas as pd\n",
        "import matplotlib.pyplot as plt\n",
        "import seaborn as sns\n",
        "import nltk\n",
        "from nltk.tokenize import sent_tokenize\n",
        "nltk.download('punkt_tab')\n",
        "from transformers import pipeline\n",
        "from google.colab import files\n"
      ],
      "metadata": {
        "colab": {
          "base_uri": "https://localhost:8080/"
        },
        "id": "XIbD1oZddMSU",
        "outputId": "a868f77b-65e1-40cd-f3dd-dccc5ee8b948"
      },
      "execution_count": null,
      "outputs": [
        {
          "output_type": "stream",
          "name": "stderr",
          "text": [
            "[nltk_data] Downloading package punkt_tab to /root/nltk_data...\n",
            "[nltk_data]   Unzipping tokenizers/punkt_tab.zip.\n"
          ]
        }
      ]
    },
    {
      "cell_type": "code",
      "source": [
        "from google.colab import drive\n",
        "drive.mount('/content/drive')"
      ],
      "metadata": {
        "colab": {
          "base_uri": "https://localhost:8080/"
        },
        "id": "fwZohpjjvGfl",
        "outputId": "6d98b690-84c2-4fe7-de57-c8511e9dcd4a"
      },
      "execution_count": null,
      "outputs": [
        {
          "output_type": "stream",
          "name": "stdout",
          "text": [
            "Mounted at /content/drive\n"
          ]
        }
      ]
    },
    {
      "cell_type": "code",
      "source": [
        "pdf_path = '/content/drive/MyDrive/Proyecto_final_IA/informes_politica_monetaria/informe-politica-monetaria-abril-2024.pdf'"
      ],
      "metadata": {
        "id": "jz4rDL1FcgeT"
      },
      "execution_count": null,
      "outputs": []
    },
    {
      "cell_type": "markdown",
      "source": [
        "# Limpieza de texto"
      ],
      "metadata": {
        "id": "rXOVU_2nhTYs"
      }
    },
    {
      "cell_type": "markdown",
      "source": [
        "## Eliminar páginas innecesarias"
      ],
      "metadata": {
        "id": "ZE28iamw0JOx"
      }
    },
    {
      "cell_type": "code",
      "source": [
        "\n",
        "# Abrir el documento original\n",
        "doc = fitz.open(pdf_path)\n",
        "\n",
        "# Crear un nuevo PDF\n",
        "new_doc = fitz.open()\n",
        "\n",
        "# Páginas a extraer\n",
        "pages_to_extract = range(9, 39) #Cambiar el número de páginas según el informe\n",
        "\n",
        "# Añadir las páginas seleccionadas al nuevo documento\n",
        "for page_number in pages_to_extract:\n",
        "    new_doc.insert_pdf(doc, from_page=page_number, to_page=page_number)\n",
        "\n",
        "# Guardar el nuevo PDF\n",
        "new_pdf_path = '/content/informe_monetario_filtrado_abril.pdf'\n",
        "new_doc.save(new_pdf_path)\n",
        "\n",
        "# Cerrar ambos documentos\n",
        "doc.close()\n",
        "new_doc.close()\n",
        "\n"
      ],
      "metadata": {
        "id": "5gcz-z9HvFdH"
      },
      "execution_count": null,
      "outputs": []
    },
    {
      "cell_type": "code",
      "source": [
        "num_pages = len(new_pdf_path)\n",
        "print(f\"Número de páginas: {num_pages}\")"
      ],
      "metadata": {
        "id": "ilL_SUEst9uX",
        "colab": {
          "base_uri": "https://localhost:8080/"
        },
        "outputId": "272ca910-601d-4257-e1de-df7455b721ea"
      },
      "execution_count": null,
      "outputs": [
        {
          "output_type": "stream",
          "name": "stdout",
          "text": [
            "Número de páginas: 45\n"
          ]
        }
      ]
    },
    {
      "cell_type": "code",
      "source": [
        "# Extraer texto del informe\n",
        "\n",
        "# Abrir el PDF\n",
        "pdf_path = '/content/informe_monetario_filtrado_abril.pdf'\n",
        "doc = fitz.open(pdf_path)\n",
        "\n",
        "# Extraer solo el texto de cada página (omitiendo gráficos)\n",
        "text_content = []\n",
        "for page_num in range(len(doc)):\n",
        "    page = doc.load_page(page_num)\n",
        "    # Extraer solo el contenido textual\n",
        "    text = page.get_text(\"text\")\n",
        "    text_content.append(text)\n",
        "\n",
        "# Combinar el contenido extraído\n",
        "text_content_str = '\\n'.join(text_content)\n",
        "\n",
        "print(text_content_str[:1000])"
      ],
      "metadata": {
        "id": "2HtDzcjf4L62",
        "colab": {
          "base_uri": "https://localhost:8080/"
        },
        "outputId": "407668a4-b7a6-44e4-d6b7-4b76a1b33081"
      },
      "execution_count": null,
      "outputs": [
        {
          "output_type": "stream",
          "name": "stdout",
          "text": [
            "1. Resumen\n",
            "Gráfico 1.1\n",
            "Índice de precios al consumidora/, b/\n",
            "(variación anual, fin de periodo)\n",
            "a/ El gráfico presenta la distribución de probabilidad del pronóstico y su senda \n",
            "más probable para un horizonte a 8 trimestres. La densidad caracteriza el balance \n",
            "prospectivo de riesgos con áreas del 30%, 60% y 90% de probabilidad alrededor \n",
            "del pronóstico central (moda), mediante la combinación de las densidades del \n",
            "Patacon y el 4GM.\n",
            "b/ La distribución de probabilidad corresponde al ejercicio de pronóstico del \n",
            "Informe de abril.\n",
            "Fuente: DANE; cálculos y proyecciones del Banco de la República.\n",
            "Gráfico 1.2\n",
            "IPC sin alimentos ni reguladosa/, b/\n",
            "(variación anual, fin de periodo)\n",
            "a/ El gráfico presenta la distribución de probabilidad del pronóstico y su senda más \n",
            "probable para un horizonte a 8 trimestres. La densidad caracteriza el balance pros-\n",
            "pectivo de riesgos con áreas del 30%, 60% y 90% de probabilidad alrededor del \n",
            "pronóstico central (moda), mediante la combinación de las densidades de\n"
          ]
        }
      ]
    },
    {
      "cell_type": "markdown",
      "source": [
        "## División del texto en frases"
      ],
      "metadata": {
        "id": "EamcDjQ0hiXg"
      }
    },
    {
      "cell_type": "code",
      "source": [
        "# Extraer texto del informe\n",
        "\n",
        "# Abrir el PDF\n",
        "pdf_path = '/content/informe_monetario_filtrado_abril.pdf'\n",
        "doc = fitz.open(pdf_path)\n",
        "\n",
        "# Extraer solo el texto de cada página (omitiendo gráficos)\n",
        "text_content = []\n",
        "for page_num in range(len(doc)):\n",
        "    page = doc.load_page(page_num)\n",
        "    # Extraer solo el contenido textual\n",
        "    text = page.get_text(\"text\")\n",
        "    text_content.append(text)\n",
        "\n",
        "# Combinar el contenido extraído\n",
        "text_content_str = '\\n'.join(text_content)\n",
        "\n",
        "# Verificar una muestra del contenido\n",
        "print(text_content_str[:1000])\n",
        "\n",
        "# Descargar el recurso 'punkt'\n",
        "nltk.download('punkt')\n",
        "\n",
        "# Filtrar gráficos, tablas y elementos irrelevantes\n",
        "texto_filtrado = re.sub(r\"Gráfco.*|Cuadro.*|Figura.*|Fuente:.*|^\\s*\\d+(\\.\\d+)?\\s*$\", \"\", text_content_str, flags=re.MULTILINE)\n",
        "\n",
        "# Tokenizar el texto en frases utilizando NLTK\n",
        "frases = sent_tokenize(texto_filtrado)\n",
        "\n",
        "# Crear el DataFrame con cada frase\n",
        "df = pd.DataFrame(frases, columns=['Frase'])\n",
        "\n",
        "# Mostrar una muestra del DataFrame para verificar\n",
        "print(df.head())\n",
        "\n",
        "# Guardar el DataFrame en un CSV si se necesita\n",
        "df.to_csv('frases_informes.csv', index=False)\n",
        "\n",
        "# Descargar el archivo CSV\n",
        "#files.download('frases_informes.csv')\n",
        "\n"
      ],
      "metadata": {
        "id": "ejgf2uel4ZPs",
        "colab": {
          "base_uri": "https://localhost:8080/"
        },
        "outputId": "459fe661-f998-4fac-d2c3-d9ad09f2ae4c"
      },
      "execution_count": null,
      "outputs": [
        {
          "output_type": "stream",
          "name": "stdout",
          "text": [
            "1. Resumen\n",
            "Gráfico 1.1\n",
            "Índice de precios al consumidora/, b/\n",
            "(variación anual, fin de periodo)\n",
            "a/ El gráfico presenta la distribución de probabilidad del pronóstico y su senda \n",
            "más probable para un horizonte a 8 trimestres. La densidad caracteriza el balance \n",
            "prospectivo de riesgos con áreas del 30%, 60% y 90% de probabilidad alrededor \n",
            "del pronóstico central (moda), mediante la combinación de las densidades del \n",
            "Patacon y el 4GM.\n",
            "b/ La distribución de probabilidad corresponde al ejercicio de pronóstico del \n",
            "Informe de abril.\n",
            "Fuente: DANE; cálculos y proyecciones del Banco de la República.\n",
            "Gráfico 1.2\n",
            "IPC sin alimentos ni reguladosa/, b/\n",
            "(variación anual, fin de periodo)\n",
            "a/ El gráfico presenta la distribución de probabilidad del pronóstico y su senda más \n",
            "probable para un horizonte a 8 trimestres. La densidad caracteriza el balance pros-\n",
            "pectivo de riesgos con áreas del 30%, 60% y 90% de probabilidad alrededor del \n",
            "pronóstico central (moda), mediante la combinación de las densidades de\n"
          ]
        },
        {
          "output_type": "stream",
          "name": "stderr",
          "text": [
            "[nltk_data] Downloading package punkt to /root/nltk_data...\n",
            "[nltk_data]   Unzipping tokenizers/punkt.zip.\n"
          ]
        },
        {
          "output_type": "stream",
          "name": "stdout",
          "text": [
            "                                               Frase\n",
            "0                                                 1.\n",
            "1  Resumen\\nGráfico 1.1\\nÍndice de precios al con...\n",
            "2  La densidad caracteriza el balance \\nprospecti...\n",
            "3  b/ La distribución de probabilidad corresponde...\n",
            "4  Gráfico 1.2\\nIPC sin alimentos ni reguladosa/,...\n"
          ]
        }
      ]
    },
    {
      "cell_type": "markdown",
      "source": [
        "## Implementación limpieza de texto"
      ],
      "metadata": {
        "id": "VtC5zBDd8kTX"
      }
    },
    {
      "cell_type": "code",
      "source": [
        "\n",
        "# Leer el archivo CSV\n",
        "df = pd.read_csv('frases_informes.csv')\n",
        "\n",
        "# Convertir las frases a una lista\n",
        "frases = df['Frase'].tolist()\n",
        "\n",
        "# Filtrar frases que contienen pocas palabras (menos de 5)\n",
        "frases = [frase for frase in frases if len(frase.split()) > 4]\n",
        "\n",
        "# Eliminar frases que contienen solo números o que tienen muy pocos caracteres útiles\n",
        "def es_frase_irrelevante(frase):\n",
        "    if re.match(r'^\\s*\\d+(\\.\\d+)?\\s*$', frase):\n",
        "        return True\n",
        "    if len(re.sub(r'[^\\w\\s]', '', frase).strip()) < 5:\n",
        "        return True\n",
        "    return False\n",
        "\n",
        "frases = [frase for frase in frases if not es_frase_irrelevante(frase)]\n",
        "\n",
        "# Filtrar frases que contienen patrones irrelevantes\n",
        "patrones_irrelevantes = [\n",
        "    r'Gráf(co|ico).*',  # Cualquier mención de gráficos\n",
        "    r'Informe de .*',   # Encabezados como \"Informe de abril\"\n",
        "    r'\\b(I{1,3}|IV|VI{0,3})\\b',  # Números romanos\n",
        "    r'\\d+,\\d+',  # Valores numéricos en leyendas\n",
        "    r'\\b(porcentaje|Fuente:|tasa de interés|brecha del producto)\\b',\n",
        "    r'\\b(Credit default swap|Tasa de cambio nominal)\\b',  # Palabras clave en frases incoherentes\n",
        "    r'(Chile|Perú|Brasil|México)(\\s+\\w+)*',  # Frases con nombres de países en secuencia\n",
        "    r'(nov|mar|jul|may|ene|abr|jun|ago|sep|oct|dic)-\\d{2}',  # Fechas en formato \"may-21\", \"jul-22\", etc.\n",
        "    r'\\(.*índice.*\\)',  # Leyendas con \"índice\" o \"(porcentaje)\", \"(puntos base)\", etc.\n",
        "    r'^\\s*Nota:.*',  # Frases que empiezan con \"Nota:\" (habitualmente leyendas)\n",
        "    r'^\\s*$',  # Filtrar líneas vacías\n",
        "    r'\\b(puntos base|índice.*= 100)\\b',  # Leyendas sobre puntos base o índices\n",
        "    r'\\b(miles de personas|eje derecho|agregado nacional|otras cabeceras|rural|veintitrés ciudades|asalariado|no asalariado)\\b',  # Palabras clave de leyendas y categorías\n",
        "    r'(may|ene|feb|mar|abr|jun|jul|ago|sep|oct|nov|dic)-\\d{2}(\\s*)?(\\n|$)',  # Listas de fechas consecutivas\n",
        "    r'^.*\\b(vol\\.|ed\\.|revista|institución|basado en|database|review|journal|economic|modelo)\\b.*$',  # Referencias con términos como \"vol.\", \"institución\", \"review\", etc.\n",
        "    r'“.*”',  # Títulos entre comillas dobles\n",
        "    r'[A-Z][a-z]+(?:-[A-Z][a-z]+)?,\\s[A-Z]\\.\\s(?:\\(\\d{4}\\))?',  # Nombres de autores con inicial y año (e.g. \"Torres-Gorron, J. E. (2017)\")\n",
        "    r'^[a-z]\\/.*'  # Frases que comienzan con \"a/\", \"b/\", \"c/\", etc.\n",
        "    r'\\(.*?\\)'  # Eliminar contenido entre paréntesis\n",
        "    r'\\b[a-b]/',  # Eliminar todas las ocurrencias de \"a/\" y \"b/\"\n",
        "]\n",
        "\n",
        "# Aplicar los patrones irrelevantes para filtrar\n",
        "for patron in patrones_irrelevantes:\n",
        "    frases = [frase for frase in frases if not re.search(patron, frase, flags=re.IGNORECASE)]\n",
        "\n",
        "# Aplicar el filtro adicional para texto extraído\n",
        "#texto_filtrado = re.sub(r\"Gráfco.*|Cuadro.*|Figura.*|Fuente:.*|^\\s*\\d+(\\.\\d+)?\\s*$\", \"\", texto_extraido, flags=re.MULTILINE)\n",
        "\n",
        "# Filtrar frases que contienen palabras irrelevantes\n",
        "palabras_irrelevantes = ['gráfico', 'fuente', 'tabla', 'cuadro', 'variación', 'pronóstico', 'porcentaje', 'recuadro']\n",
        "\n",
        "def contiene_palabras_irrelevantes(frase):\n",
        "    return any(palabra in frase.lower() for palabra in palabras_irrelevantes)\n",
        "\n",
        "frases = [frase for frase in frases if not contiene_palabras_irrelevantes(frase)]\n",
        "\n",
        "# Filtrar frases mayormente numéricas o con pocos caracteres útiles\n",
        "def frase_mayormente_numerica(frase):\n",
        "    num_alfanum = sum(char.isalnum() for char in frase)\n",
        "    return num_alfanum / max(1, len(frase)) < 0.5\n",
        "\n",
        "frases = [frase for frase in frases if not frase_mayormente_numerica(frase)]\n",
        "\n",
        "# Diccionario personalizado de correcciones ortográficas\n",
        "correcciones = {\n",
        "    \"infación\": \"inflación\",\n",
        "    \"desinfación\": \"desinflación\",\n",
        "    \"Gráfco\": \"Gráfico\",\n",
        "    \"fnalizar\": \"finalizar\",\n",
        "    \"fnales\": \"finales\",\n",
        "    \"refejando\": \"reflejando\",\n",
        "    \"fnanciamiento\": \"financiamiento\",\n",
        "    \"fnancieras\": \"financieras\",\n",
        "    \"ofcinas\": \"oficinas\",\n",
        "    \"confanza\": \"confianza\",\n",
        "    \"fexibilización\": \"flexibilización\",\n",
        "    \"fnalizarían\": \"finalizarían\",\n",
        "    \"modifcaciones\": \"modificaciones\",\n",
        "    \"desinfacionario\": \"desinflacionario\",\n",
        "    \"desinfacionarias\": \"desinflacionarias\",\n",
        "    \"infacionararia\": \"inflacionaria\",\n",
        "    \"infacionario\": \"inflacionario\",\n",
        "    \"refejar\": \"reflejar\",\n",
        "    \"refejarse\": \"reflejarse\",\n",
        "    \"défcit\": \"déficit\",\n",
        "    \"fn\": \"fin\",\n",
        "    \"confictos\": \"conflictos\",\n",
        "    \"signifcativamente\": \"significativamente\",\n",
        "    \"signifcativas\":\"significativas\",\n",
        "    \"científcas\": \"científicas\",\n",
        "    \"fjo\": \"fijo\",\n",
        "    \"fja\": \"fija\",\n",
        "    \"edifcaciones\": \"edificaciones\",\n",
        "    \"edifcios\": \"edificios\",\n",
        "    \"cuantifcar\": \"cuantificar\",\n",
        "    \"défcit\": \"déficit\",\n",
        "    \"fujos\": \"flujos\",\n",
        "    \"certifcados\": \"certificados\",\n",
        "    \"refejó\": \"reflejó\",\n",
        "    \"insufciente\": \"insuficiente\",\n",
        "    \"modifcados\": \"modificados\",\n",
        "    \"fscal\": \"fiscal\",\n",
        "    \"fnal\": \"final\",\n",
        "    \"refejo\": \"reflejo\",\n",
        "    \"fnanciar\": \"financiar\"\n",
        "}\n",
        "\n",
        "# Aplicar las correcciones ortográficas\n",
        "def corregir_ortografia(frase):\n",
        "    for palabra_mal, palabra_bien in correcciones.items():\n",
        "        frase = re.sub(r'\\b' + re.escape(palabra_mal) + r'\\b', palabra_bien, frase, flags=re.IGNORECASE)\n",
        "    return frase\n",
        "\n",
        "frases_corregidas = [corregir_ortografia(frase) for frase in frases]\n",
        "\n",
        "# Guardar las frases corregidas en un nuevo archivo de texto\n",
        "with open('frases_filtradas_corregidas.txt', 'w', encoding='utf-8') as file:\n",
        "    for frase in frases_corregidas:\n",
        "        file.write(frase + '\\n')\n",
        "\n",
        "#files.download('frases_filtradas_corregidas.txt')\n"
      ],
      "metadata": {
        "id": "CFUn1dDw7y07"
      },
      "execution_count": null,
      "outputs": []
    },
    {
      "cell_type": "markdown",
      "source": [
        "## Tabular las frases"
      ],
      "metadata": {
        "id": "Xh63M8dTkgUi"
      }
    },
    {
      "cell_type": "code",
      "source": [
        "\n",
        "# Leer el archivo de texto proporcionado\n",
        "with open('/content/frases_filtradas_corregidas.txt', 'r', encoding='utf-8') as file:\n",
        "    contenido = file.read()\n",
        "\n",
        "# Unir las líneas que se cortan con guiones\n",
        "contenido = re.sub(r'-\\n', '', contenido)\n",
        "\n",
        "# Unir las líneas separadas por saltos de línea para formar oraciones completas\n",
        "contenido = re.sub(r'\\n', ' ', contenido)\n",
        "\n",
        "# Separar las frases utilizando el punto (.) como delimitador\n",
        "frases = re.split(r'\\.\\s+', contenido)  # Divide el texto en cada punto seguido de un espacio\n",
        "\n",
        "# Quitar espacios adicionales y frases vacías\n",
        "frases = [frase.strip() for frase in frases if frase.strip()]\n",
        "\n",
        "# Crear el DataFrame con dos columnas: \"frases_banrep\" y \"informe\"\n",
        "df = pd.DataFrame({\n",
        "    'frases_banrep': frases,\n",
        "    'informe': ['informe_abril_2024'] * len(frases)\n",
        "})\n",
        "\n",
        "# Mostrar las primeras filas del DataFrame para verificar\n",
        "print(df.head())\n",
        "\n",
        "# Guardar el DataFrame en un archivo CSV\n",
        "df.to_csv('frases_informe_abril_2024.csv', sep= '|', index=False)\n",
        "#files.download('frases_informe_julio_2024.csv')\n"
      ],
      "metadata": {
        "id": "wLPAJsTajTnK",
        "colab": {
          "base_uri": "https://localhost:8080/"
        },
        "outputId": "41d48fa1-48d5-48fe-f47f-371d6c188377"
      },
      "execution_count": null,
      "outputs": [
        {
          "output_type": "stream",
          "name": "stdout",
          "text": [
            "                                       frases_banrep             informe\n",
            "0  Las acciones acumuladas de la política monetar...  informe_abril_2024\n",
            "1  Entre diciembre  de 2023 y marzo de este año t...  informe_abril_2024\n",
            "2  Este comportamiento se explicó por la apreciac...  informe_abril_2024\n",
            "3  Lo anterior, en el contexto de  una política m...  informe_abril_2024\n",
            "4  Hacia adelante se continúa previendo la conver...  informe_abril_2024\n"
          ]
        }
      ]
    },
    {
      "cell_type": "markdown",
      "source": [
        "# Implementar el modelo"
      ],
      "metadata": {
        "id": "GZUu52b_2WXM"
      }
    },
    {
      "cell_type": "code",
      "source": [
        "# Crear el pipeline de análisis de sentimientos usando el modelo \"bardsai/finance-sentiment-es-base\"\n",
        "nlp = pipeline(\"sentiment-analysis\", model=\"bardsai/finance-sentiment-es-base\")\n",
        "\n",
        "# Aplicar el modelo a cada una de las frases en la columna \"frases_banrep\" y guardar los resultados en nuevas columnas\n",
        "df['resultado_nlp'] = df['frases_banrep'].apply(lambda x: nlp(x)[0])\n",
        "df['sentimiento'] = df['resultado_nlp'].apply(lambda x: x['label'])\n",
        "df['score'] = df['resultado_nlp'].apply(lambda x: x['score'])\n",
        "\n",
        "# Eliminar la columna intermedia \"resultado_nlp\" ya que no es necesaria en el DataFrame final\n",
        "df.drop(columns=['resultado_nlp'], inplace=True)\n",
        "\n",
        "# Mostrar las primeras filas del DataFrame para verificar\n",
        "print(df.head())\n",
        "\n",
        "# Guardar el DataFrame en un archivo CSV con el delimitador \"|\"\n",
        "df.to_csv('frases_informe_abril_2024_con_sentimientos.csv', sep='|', index=False)\n",
        "files.download('frases_informe_abril_2024_con_sentimientos.csv')\n"
      ],
      "metadata": {
        "id": "6lfqKaEm0v-8",
        "colab": {
          "base_uri": "https://localhost:8080/",
          "height": 260
        },
        "outputId": "2d3d7578-4c4a-43af-c398-c68fefab193d"
      },
      "execution_count": null,
      "outputs": [
        {
          "output_type": "stream",
          "name": "stderr",
          "text": [
            "Hardware accelerator e.g. GPU is available in the environment, but no `device` argument is passed to the `Pipeline` object. Model will be on CPU.\n"
          ]
        },
        {
          "output_type": "stream",
          "name": "stdout",
          "text": [
            "                                       frases_banrep             informe  \\\n",
            "0  Las acciones acumuladas de la política monetar...  informe_abril_2024   \n",
            "1  Entre diciembre  de 2023 y marzo de este año t...  informe_abril_2024   \n",
            "2  Este comportamiento se explicó por la apreciac...  informe_abril_2024   \n",
            "3  Lo anterior, en el contexto de  una política m...  informe_abril_2024   \n",
            "4  Hacia adelante se continúa previendo la conver...  informe_abril_2024   \n",
            "\n",
            "  sentimiento     score  \n",
            "0     neutral  0.983776  \n",
            "1    negative  0.999888  \n",
            "2    positive  0.999931  \n",
            "3    negative  0.999879  \n",
            "4    negative  0.999859  \n"
          ]
        },
        {
          "output_type": "display_data",
          "data": {
            "text/plain": [
              "<IPython.core.display.Javascript object>"
            ],
            "application/javascript": [
              "\n",
              "    async function download(id, filename, size) {\n",
              "      if (!google.colab.kernel.accessAllowed) {\n",
              "        return;\n",
              "      }\n",
              "      const div = document.createElement('div');\n",
              "      const label = document.createElement('label');\n",
              "      label.textContent = `Downloading \"${filename}\": `;\n",
              "      div.appendChild(label);\n",
              "      const progress = document.createElement('progress');\n",
              "      progress.max = size;\n",
              "      div.appendChild(progress);\n",
              "      document.body.appendChild(div);\n",
              "\n",
              "      const buffers = [];\n",
              "      let downloaded = 0;\n",
              "\n",
              "      const channel = await google.colab.kernel.comms.open(id);\n",
              "      // Send a message to notify the kernel that we're ready.\n",
              "      channel.send({})\n",
              "\n",
              "      for await (const message of channel.messages) {\n",
              "        // Send a message to notify the kernel that we're ready.\n",
              "        channel.send({})\n",
              "        if (message.buffers) {\n",
              "          for (const buffer of message.buffers) {\n",
              "            buffers.push(buffer);\n",
              "            downloaded += buffer.byteLength;\n",
              "            progress.value = downloaded;\n",
              "          }\n",
              "        }\n",
              "      }\n",
              "      const blob = new Blob(buffers, {type: 'application/binary'});\n",
              "      const a = document.createElement('a');\n",
              "      a.href = window.URL.createObjectURL(blob);\n",
              "      a.download = filename;\n",
              "      div.appendChild(a);\n",
              "      a.click();\n",
              "      div.remove();\n",
              "    }\n",
              "  "
            ]
          },
          "metadata": {}
        },
        {
          "output_type": "display_data",
          "data": {
            "text/plain": [
              "<IPython.core.display.Javascript object>"
            ],
            "application/javascript": [
              "download(\"download_0183643a-42c8-44ce-b006-3e7c0dab026f\", \"frases_informe_abril_2024_con_sentimientos.csv\", 61817)"
            ]
          },
          "metadata": {}
        }
      ]
    },
    {
      "cell_type": "code",
      "source": [
        "df.info()"
      ],
      "metadata": {
        "id": "asz8XztW8bFB",
        "colab": {
          "base_uri": "https://localhost:8080/"
        },
        "outputId": "3b4057d9-0a0b-4801-8290-17c7dd7a02a9"
      },
      "execution_count": null,
      "outputs": [
        {
          "output_type": "stream",
          "name": "stdout",
          "text": [
            "<class 'pandas.core.frame.DataFrame'>\n",
            "RangeIndex: 248 entries, 0 to 247\n",
            "Data columns (total 4 columns):\n",
            " #   Column         Non-Null Count  Dtype  \n",
            "---  ------         --------------  -----  \n",
            " 0   frases_banrep  248 non-null    object \n",
            " 1   informe        248 non-null    object \n",
            " 2   sentimiento    248 non-null    object \n",
            " 3   score          248 non-null    float64\n",
            "dtypes: float64(1), object(3)\n",
            "memory usage: 7.9+ KB\n"
          ]
        }
      ]
    },
    {
      "cell_type": "markdown",
      "source": [
        "# Visualización de datos"
      ],
      "metadata": {
        "id": "4dXUjHfZHSbu"
      }
    },
    {
      "cell_type": "code",
      "source": [
        "# Crear un gráfico de barras para la distribución de tipos de sentimiento\n",
        "plt.figure(figsize=(10, 6))\n",
        "sns.countplot(data=df, x='sentimiento', palette='viridis')\n",
        "\n",
        "# Añadir título y etiquetas\n",
        "plt.title('Distribución de Sentimientos en los Informes')\n",
        "plt.xlabel('Sentimiento')\n",
        "plt.ylabel('Frecuencia')\n",
        "plt.show()\n"
      ],
      "metadata": {
        "id": "sazESqgrCykK",
        "colab": {
          "base_uri": "https://localhost:8080/",
          "height": 651
        },
        "outputId": "e5637ae2-dee0-430f-877c-3fcc63b97646"
      },
      "execution_count": null,
      "outputs": [
        {
          "output_type": "stream",
          "name": "stderr",
          "text": [
            "<ipython-input-22-8bd14908ad6d>:3: FutureWarning: \n",
            "\n",
            "Passing `palette` without assigning `hue` is deprecated and will be removed in v0.14.0. Assign the `x` variable to `hue` and set `legend=False` for the same effect.\n",
            "\n",
            "  sns.countplot(data=df, x='sentimiento', palette='viridis')\n"
          ]
        },
        {
          "output_type": "display_data",
          "data": {
            "text/plain": [
              "<Figure size 1000x600 with 1 Axes>"
            ],
            "image/png": "[encoded data removed]"
          },
          "metadata": {}
        }
      ]
    },
    {
      "cell_type": "code",
      "source": [
        "# Resumen estadístico\n",
        "\n",
        "# 1. Conteo de frases por tipo de sentimiento\n",
        "conteo_sentimientos = df['sentimiento'].value_counts()\n",
        "\n",
        "# 2. Promedio y mediana de scores por tipo de sentimiento\n",
        "promedio_scores = df.groupby('sentimiento')['score'].mean()\n",
        "mediana_scores = df.groupby('sentimiento')['score'].median()\n",
        "\n",
        "# 3. Desglose por informe\n",
        "desglose_informe = df.groupby(['informe', 'sentimiento']).size().unstack(fill_value=0)\n",
        "\n",
        "# Mostrar los resultados\n",
        "print(\"Conteo de frases por tipo de sentimiento:\")\n",
        "print(conteo_sentimientos, '\\n')\n",
        "\n",
        "print(\"Promedio de scores por tipo de sentimiento:\")\n",
        "print(promedio_scores, '\\n')\n",
        "\n",
        "print(\"Mediana de scores por tipo de sentimiento:\")\n",
        "print(mediana_scores, '\\n')\n",
        "\n",
        "print(\"Desglose de frases por informe y tipo de sentimiento:\")\n",
        "print(desglose_informe, '\\n')\n"
      ],
      "metadata": {
        "colab": {
          "base_uri": "https://localhost:8080/"
        },
        "id": "23d2C7DtxJTT",
        "outputId": "1cf902ec-5449-49cc-c3de-3715ce35f550"
      },
      "execution_count": null,
      "outputs": [
        {
          "output_type": "stream",
          "name": "stdout",
          "text": [
            "Conteo de frases por tipo de sentimiento:\n",
            "sentimiento\n",
            "negative    113\n",
            "positive     74\n",
            "neutral      61\n",
            "Name: count, dtype: int64 \n",
            "\n",
            "Promedio de scores por tipo de sentimiento:\n",
            "sentimiento\n",
            "negative    0.989809\n",
            "neutral     0.991970\n",
            "positive    0.988744\n",
            "Name: score, dtype: float64 \n",
            "\n",
            "Mediana de scores por tipo de sentimiento:\n",
            "sentimiento\n",
            "negative    0.999871\n",
            "neutral     0.999980\n",
            "positive    0.999928\n",
            "Name: score, dtype: float64 \n",
            "\n",
            "Desglose de frases por informe y tipo de sentimiento:\n",
            "sentimiento         negative  neutral  positive\n",
            "informe                                        \n",
            "informe_abril_2024       113       61        74 \n",
            "\n"
          ]
        }
      ]
    }
  ]
}